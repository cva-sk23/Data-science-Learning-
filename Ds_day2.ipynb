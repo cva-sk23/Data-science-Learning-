{
 "cells": [
  {
   "cell_type": "code",
   "execution_count": 2,
   "id": "d646d6b7",
   "metadata": {},
   "outputs": [
    {
     "name": "stdout",
     "output_type": "stream",
     "text": [
      "hello\n"
     ]
    }
   ],
   "source": [
    "print('hello')"
   ]
  },
  {
   "cell_type": "markdown",
   "id": "0f753ffe",
   "metadata": {},
   "source": [
    "# variables\n"
   ]
  },
  {
   "cell_type": "code",
   "execution_count": 20,
   "id": "dda4adb9",
   "metadata": {},
   "outputs": [],
   "source": [
    "a=10\n",
    "b='hello guvi'\n",
    "c=1,2,3,4\n"
   ]
  },
  {
   "cell_type": "code",
   "execution_count": 21,
   "id": "6c455b4a",
   "metadata": {},
   "outputs": [
    {
     "name": "stdout",
     "output_type": "stream",
     "text": [
      "(1, 2, 3, 4)\n"
     ]
    }
   ],
   "source": [
    "print(c)\n"
   ]
  },
  {
   "cell_type": "code",
   "execution_count": 7,
   "id": "9490e096",
   "metadata": {},
   "outputs": [],
   "source": [
    "user_name='aravind'"
   ]
  },
  {
   "cell_type": "code",
   "execution_count": 9,
   "id": "f3f3a7d1",
   "metadata": {},
   "outputs": [],
   "source": [
    "user1_name =\"aravind\"\n"
   ]
  },
  {
   "cell_type": "code",
   "execution_count": 11,
   "id": "7a895e02",
   "metadata": {},
   "outputs": [
    {
     "name": "stdout",
     "output_type": "stream",
     "text": [
      "40\n"
     ]
    }
   ],
   "source": [
    "A=10\n",
    "a=30\n",
    "\n",
    "print(A+a)"
   ]
  },
  {
   "cell_type": "markdown",
   "id": "03a96142",
   "metadata": {},
   "source": [
    "# Data Types"
   ]
  },
  {
   "cell_type": "code",
   "execution_count": 13,
   "id": "09ce930d",
   "metadata": {},
   "outputs": [],
   "source": [
    "Name =\"Sai\"   # String\n",
    "Age= 25       # Int\n",
    "Height=5.6    # Float\n",
    "Exam_Result= True #True /False Bool\n",
    "\n",
    "\n",
    "Mail=\" Sai123@gmail.com\"\n",
    "#Adhar # Int\n",
    "#Pan # String\n",
    "#Bank Acc  # Int\n",
    "Ip = \"169.567.68.58\"\n",
    "\n",
    "Passport=None"
   ]
  },
  {
   "cell_type": "code",
   "execution_count": 15,
   "id": "c2c637c6",
   "metadata": {},
   "outputs": [
    {
     "name": "stdout",
     "output_type": "stream",
     "text": [
      "None\n"
     ]
    }
   ],
   "source": [
    "print(Passport)"
   ]
  },
  {
   "cell_type": "markdown",
   "id": "b096c225",
   "metadata": {},
   "source": [
    "# Data Structure\n"
   ]
  },
  {
   "cell_type": "code",
   "execution_count": null,
   "id": "44f25003",
   "metadata": {},
   "outputs": [],
   "source": [
    "# List\n",
    "# Tuple\n",
    "# Set\n",
    "# Dict\n",
    "\n"
   ]
  },
  {
   "cell_type": "markdown",
   "id": "fe3eeb22",
   "metadata": {},
   "source": [
    "# list\n"
   ]
  },
  {
   "cell_type": "code",
   "execution_count": 27,
   "id": "ff14a309",
   "metadata": {},
   "outputs": [],
   "source": [
    "list_1=[10,\"guvi\",123456,76.8,[1,2,3,4,5]]\n"
   ]
  },
  {
   "cell_type": "code",
   "execution_count": 35,
   "id": "2daaae15",
   "metadata": {},
   "outputs": [
    {
     "data": {
      "text/plain": [
       "3"
      ]
     },
     "execution_count": 35,
     "metadata": {},
     "output_type": "execute_result"
    }
   ],
   "source": [
    "list_1[4][2]"
   ]
  },
  {
   "cell_type": "code",
   "execution_count": 36,
   "id": "981c62d1",
   "metadata": {},
   "outputs": [
    {
     "data": {
      "text/plain": [
       "'i'"
      ]
     },
     "execution_count": 36,
     "metadata": {},
     "output_type": "execute_result"
    }
   ],
   "source": [
    "list_1[1][3]"
   ]
  },
  {
   "cell_type": "code",
   "execution_count": 38,
   "id": "33802338",
   "metadata": {},
   "outputs": [
    {
     "data": {
      "text/plain": [
       "[[1, 2, 3, 4, 5], 76.8, 123456, 'guvi', 10]"
      ]
     },
     "execution_count": 38,
     "metadata": {},
     "output_type": "execute_result"
    }
   ],
   "source": [
    "list_1[::-1]"
   ]
  },
  {
   "cell_type": "code",
   "execution_count": 42,
   "id": "d4c7f94e",
   "metadata": {},
   "outputs": [],
   "source": [
    "L=[10,\"Guvi\",3.56,True,[1,2,3,4], \"Guvi\",\"Hi MDT51\"]   # List Can Store All Data types and Data Structure, List Can Mutable , Duplicate Accepted"
   ]
  },
  {
   "cell_type": "code",
   "execution_count": 43,
   "id": "2c67813c",
   "metadata": {},
   "outputs": [
    {
     "data": {
      "text/plain": [
       "[1, 2, 3, 4]"
      ]
     },
     "execution_count": 43,
     "metadata": {},
     "output_type": "execute_result"
    }
   ],
   "source": [
    "L[-3]\n"
   ]
  },
  {
   "cell_type": "code",
   "execution_count": 44,
   "id": "8ef0e89c",
   "metadata": {},
   "outputs": [
    {
     "data": {
      "text/plain": [
       "'G'"
      ]
     },
     "execution_count": 44,
     "metadata": {},
     "output_type": "execute_result"
    }
   ],
   "source": [
    "L[-2][-4]\n"
   ]
  },
  {
   "cell_type": "code",
   "execution_count": 45,
   "id": "c1826e08",
   "metadata": {},
   "outputs": [
    {
     "data": {
      "text/plain": [
       "True"
      ]
     },
     "execution_count": 45,
     "metadata": {},
     "output_type": "execute_result"
    }
   ],
   "source": [
    "L[len(L)//2]"
   ]
  },
  {
   "cell_type": "code",
   "execution_count": 46,
   "id": "8f72f000",
   "metadata": {},
   "outputs": [
    {
     "data": {
      "text/plain": [
       "[True, [1, 2, 3, 4], 'Guvi', 'Hi MDT51']"
      ]
     },
     "execution_count": 46,
     "metadata": {},
     "output_type": "execute_result"
    }
   ],
   "source": [
    "L[len(L)//2:]"
   ]
  },
  {
   "cell_type": "code",
   "execution_count": 47,
   "id": "39b43005",
   "metadata": {},
   "outputs": [
    {
     "data": {
      "text/plain": [
       "[10, 'Guvi', 3.56]"
      ]
     },
     "execution_count": 47,
     "metadata": {},
     "output_type": "execute_result"
    }
   ],
   "source": [
    "L[:len(L)//2]"
   ]
  },
  {
   "cell_type": "code",
   "execution_count": 48,
   "id": "4d0059e8",
   "metadata": {},
   "outputs": [
    {
     "data": {
      "text/plain": [
       "3.56"
      ]
     },
     "execution_count": 48,
     "metadata": {},
     "output_type": "execute_result"
    }
   ],
   "source": [
    "L[2]"
   ]
  },
  {
   "cell_type": "code",
   "execution_count": 49,
   "id": "4bdf3484",
   "metadata": {},
   "outputs": [
    {
     "data": {
      "text/plain": [
       "'Guvi'"
      ]
     },
     "execution_count": 49,
     "metadata": {},
     "output_type": "execute_result"
    }
   ],
   "source": [
    "L[1]"
   ]
  },
  {
   "cell_type": "code",
   "execution_count": null,
   "id": "822c61aa",
   "metadata": {},
   "outputs": [],
   "source": []
  }
 ],
 "metadata": {
  "kernelspec": {
   "display_name": "Python 3",
   "language": "python",
   "name": "python3"
  },
  "language_info": {
   "codemirror_mode": {
    "name": "ipython",
    "version": 3
   },
   "file_extension": ".py",
   "mimetype": "text/x-python",
   "name": "python",
   "nbconvert_exporter": "python",
   "pygments_lexer": "ipython3",
   "version": "3.12.10"
  }
 },
 "nbformat": 4,
 "nbformat_minor": 5
}
